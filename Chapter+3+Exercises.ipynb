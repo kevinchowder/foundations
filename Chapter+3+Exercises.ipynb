{
 "cells": [
  {
   "cell_type": "markdown",
   "metadata": {},
   "source": [
    "# Chapter 3 Exercises"
   ]
  },
  {
   "cell_type": "markdown",
   "metadata": {},
   "source": [
    "##3.1"
   ]
  },
  {
   "cell_type": "code",
   "execution_count": 28,
   "metadata": {
    "collapsed": false
   },
   "outputs": [
    {
     "name": "stdout",
     "output_type": "stream",
     "text": [
      "                                                                 kevin\n",
      "70\n"
     ]
    }
   ],
   "source": [
    "def right_justify(s):  #prints a string with last character at position 70\n",
    "    blanks = 70 - len(s)\n",
    "    emptystring = \"\"\n",
    "    while blanks > 0:\n",
    "        emptystring = emptystring + \" \"\n",
    "        blanks = blanks - 1\n",
    "    emptystring = emptystring + s\n",
    "    return(emptystring)\n",
    "    \n",
    "print(right_justify(\"kevin\"))\n",
    "print(len(right_justify(\"kevin\"))) #check if this string is 70 characters long\n",
    "        \n",
    "        \n",
    "    "
   ]
  },
  {
   "cell_type": "markdown",
   "metadata": {},
   "source": [
    "##3.2"
   ]
  },
  {
   "cell_type": "code",
   "execution_count": 31,
   "metadata": {
    "collapsed": false
   },
   "outputs": [
    {
     "name": "stdout",
     "output_type": "stream",
     "text": [
      "spam\n",
      "spam\n",
      "spam\n",
      "spam\n"
     ]
    }
   ],
   "source": [
    "def do_twice(f,value):\n",
    "    f(value)\n",
    "    f(value)\n",
    "    \n",
    "def print_spam():\n",
    "    print('spam')\n",
    "    \n",
    "def print_twice(bruce):\n",
    "    print(bruce)\n",
    "    print(bruce)\n",
    "    \n",
    "def do_four(g,input):\n",
    "    do_twice(g,input)\n",
    "    do_twice(g,input)\n",
    "    \n",
    "do_twice(print_twice,'spam')\n",
    "#do_four(print_twice,'spam')"
   ]
  },
  {
   "cell_type": "markdown",
   "metadata": {},
   "source": [
    "##3.3"
   ]
  },
  {
   "cell_type": "code",
   "execution_count": 59,
   "metadata": {
    "collapsed": false
   },
   "outputs": [
    {
     "name": "stdout",
     "output_type": "stream",
     "text": [
      "+ - - - - + - - - - +\n",
      "|         |         |\n",
      "|         |         |\n",
      "|         |         |\n",
      "|         |         |\n",
      "+ - - - - + - - - - +\n",
      "|         |         |\n",
      "|         |         |\n",
      "|         |         |\n",
      "|         |         |\n",
      "+ - - - - + - - - - ++ - - - - + - - - - ++ - - - - + - - - - +\n",
      "|         |        ||         |        ||         |        ||         |        ||         |        ||         |        ||         |        ||         |        |+ - - - - + - - - - ++ - - - - + - - - - +\n",
      "|         |        ||         |        ||         |        ||         |        ||         |        ||         |        ||         |        ||         |        |"
     ]
    }
   ],
   "source": [
    "def print_four_end(first,second):\n",
    "    print(first,end=second)\n",
    "    print(first,end=second)\n",
    "    print(first,end=second)\n",
    "    print(first,end=second)\n",
    "    \n",
    "def print_four(first,second):\n",
    "    print(first,second)\n",
    "    print(first,second)\n",
    "    print(first,second)\n",
    "    print(first,second)\n",
    "\n",
    "def print_edge():\n",
    "    print('+',end=' ')\n",
    "    print_four_end('-',' ')\n",
    "    print('+',end=' ')\n",
    "    print_four_end('-',' ')\n",
    "    print('+',end='')\n",
    "\n",
    "#Part 1\n",
    "def draw_grid():\n",
    "    print_edge()\n",
    "    print()\n",
    "    print_four('|         |','        |')\n",
    "    print_edge()\n",
    "    print()\n",
    "    print_four('|         |','        |')\n",
    "    print_edge()\n",
    "    \n",
    "draw_grid()\n",
    "\n",
    "#Part 2\n",
    "def print_two_end(first,second):\n",
    "    print(first,end=second)\n",
    "    print(first,end=second)\n",
    "  \n",
    "def draw_big_grid():\n",
    "    print_edge()\n",
    "    print_edge()\n",
    "    print()\n",
    "    print_two_end('|         |','        |')\n",
    "    print_two_end('|         |','        |')\n",
    "    print_two_end('|         |','        |')\n",
    "    print_two_end('|         |','        |')\n",
    "    print_edge()\n",
    "    print_edge()\n",
    "    print()\n",
    "    print_two_end('|         |','        |')\n",
    "    print_two_end('|         |','        |')\n",
    "    print_two_end('|         |','        |')\n",
    "    print_two_end('|         |','        |')\n",
    "    \n",
    "draw_big_grid()"
   ]
  },
  {
   "cell_type": "code",
   "execution_count": null,
   "metadata": {
    "collapsed": true
   },
   "outputs": [],
   "source": []
  }
 ],
 "metadata": {
  "anaconda-cloud": {},
  "kernelspec": {
   "display_name": "Python [default]",
   "language": "python",
   "name": "python3"
  },
  "language_info": {
   "codemirror_mode": {
    "name": "ipython",
    "version": 3
   },
   "file_extension": ".py",
   "mimetype": "text/x-python",
   "name": "python",
   "nbconvert_exporter": "python",
   "pygments_lexer": "ipython3",
   "version": "3.5.2"
  }
 },
 "nbformat": 4,
 "nbformat_minor": 1
}
