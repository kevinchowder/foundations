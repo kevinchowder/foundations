{
 "cells": [
  {
   "cell_type": "code",
   "execution_count": null,
   "metadata": {
    "collapsed": false
   },
   "outputs": [],
   "source": [
    "import math\n",
    "import operator\n",
    "\n",
    "operations = {'+':operator.add, ## From Ty\n",
    "       '-':operator.sub,\n",
    "       '*':operator.mul,\n",
    "       '/':operator.truediv,\n",
    "       '^':operator.pow,\n",
    "       'sin':math.sin,\n",
    "       'tan':math.tan,\n",
    "       'cos':math.cos,\n",
    "       'pi':math.pi}\n",
    "\n",
    "def is_number(s):  ## From Ty Shaikh - returns True if string is a number/can be a float\n",
    "    try:\n",
    "        float(s)\n",
    "        return True\n",
    "    except ValueError:\n",
    "        pass\n",
    "\n",
    "def readinfix(): ## has user input the equation, saves to a list called infix, delimited by spaces\n",
    "    global infix\n",
    "    infix = input('Type your equation, separated by spaces: ').split(' ')\n",
    "\n",
    "def evaluate(infix): ## runs through infix list and calculates result, follows algorithm from https://en.wikipedia.org/wiki/Reverse_Polish_notation\n",
    "    stack = []\n",
    "    result = 0\n",
    "    \n",
    "    for token in infix: \n",
    "        if is_number(token):\n",
    "            stack.insert(0,float(token))\n",
    "            #print(\"successfully inserted:\",token)\n",
    "            #print(\"stack:\",stack)\n",
    "        else:\n",
    "            if len(stack) < 2: \n",
    "                print(\"User has not entered enough values\")\n",
    "                break\n",
    "            else:\n",
    "                if len(token) == 1: # if the operation is a non-trig function\n",
    "                    argument1 = stack[1]\n",
    "                    argument2 = stack[0]\n",
    "                    stack.pop(1)\n",
    "                    stack.pop(0)\n",
    "                    result = operations[token](argument1, argument2)\n",
    "                    stack.insert(0,result)\n",
    "                    #print(result)\n",
    "                    #print(stack)\n",
    "                else: # operation is a trig function\n",
    "                    argument1 = stack[0]\n",
    "                    stack.pop(0)\n",
    "                    result = operations[token](math.radians(argument1)) #needs argument in radians\n",
    "                    stack.insert(0, result)\n",
    "    return result\n",
    "\n",
    "## main execution\n",
    "readinfix() \n",
    "print(\"Result: \", evaluate(infix)) #print final result \n"
   ]
  },
  {
   "cell_type": "code",
   "execution_count": null,
   "metadata": {
    "collapsed": true
   },
   "outputs": [],
   "source": []
  }
 ],
 "metadata": {
  "anaconda-cloud": {},
  "kernelspec": {
   "display_name": "Python [default]",
   "language": "python",
   "name": "python3"
  },
  "language_info": {
   "codemirror_mode": {
    "name": "ipython",
    "version": 3
   },
   "file_extension": ".py",
   "mimetype": "text/x-python",
   "name": "python",
   "nbconvert_exporter": "python",
   "pygments_lexer": "ipython3",
   "version": "3.5.2"
  }
 },
 "nbformat": 4,
 "nbformat_minor": 1
}
